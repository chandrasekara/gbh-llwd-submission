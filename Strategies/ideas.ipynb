{
 "cells": [
  {
   "cell_type": "code",
   "execution_count": null,
   "metadata": {},
   "outputs": [],
   "source": []
  },
  {
   "cell_type": "code",
   "execution_count": null,
   "metadata": {},
   "outputs": [],
   "source": [
    "import numpy as np\n",
    "import pandas as pd\n",
    "\n",
    "# Assuming 'dataframe' is your DataFrame and 'timestamp' is in datetime format\n",
    "\n",
    "def create_features(df, external_state):\n",
    "    df['return'] = external_state['price'].pct_change()\n",
    "    df['hour'] = external_state['timestamp'].dt.hour\n",
    "    df['day_of_week'] = external_state['timestamp'].dt.dayofweek\n",
    "    df['sin_hour'] = np.sin(2 * np.pi * df['hour'] / 24)\n",
    "    df['cos_hour'] = np.cos(2 * np.pi * df['hour'] / 24)\n",
    "    df['sin_day'] = np.sin(2 * np.pi * df['day_of_week'] / 7)\n",
    "    df['cos_day'] = np.cos(2 * np.pi * df['day_of_week'] / 7)\n",
    "    # Define peak hours\n",
    "    df['is_peak'] = df['hour'].apply(lambda x: 1 if 17 <= x < 21 else 0)\n",
    "    df['is_off_peak'] = df['hour'].apply(lambda x: 1 if 0 <= x < 17 or 21 <= x < 24 else 0)\n",
    "    # Create a binary feature: 1 if price is negative, 0 otherwise\n",
    "    df['price_negative'] = (df['price'] < 0).astype(int)\n",
    "    return df\n"
   ]
  },
  {
   "cell_type": "code",
   "execution_count": null,
   "metadata": {},
   "outputs": [],
   "source": [
    "# Normalize \n",
    "# hour = current_features['hour'] / 24.0\n",
    "# day_of_week = current_features['day_of_week'] / 7.0\n"
   ]
  },
  {
   "cell_type": "code",
   "execution_count": null,
   "metadata": {},
   "outputs": [],
   "source": [
    "# Reward functions\n",
    "# The reward function must penalize scenarios where the battery is either fully drained or overcharged\n",
    "if SoC < low_threshold:\n",
    "    reward -= low_soc_penalty  # Penalize low SoC to avoid depletion\n",
    "elif SoC > high_threshold:\n",
    "    reward -= high_soc_penalty  # Penalize high SoC to avoid overcharging\n",
    "    \n",
    "    \n"
   ]
  }
 ],
 "metadata": {
  "language_info": {
   "name": "python"
  }
 },
 "nbformat": 4,
 "nbformat_minor": 2
}
